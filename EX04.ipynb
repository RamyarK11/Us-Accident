{
 "cells": [
  {
   "cell_type": "markdown",
   "id": "05ac0b80",
   "metadata": {},
   "source": [
    "# Utilities"
   ]
  },
  {
   "cell_type": "code",
   "execution_count": 23,
   "id": "6763a776",
   "metadata": {},
   "outputs": [],
   "source": [
    "import numpy as np\n",
    "import pandas as pd\n",
    "import matplotlib.pyplot as plt\n"
   ]
  },
  {
   "cell_type": "code",
   "execution_count": 33,
   "id": "c784a415",
   "metadata": {},
   "outputs": [],
   "source": [
    "df = pd.read_csv(\"US_Accidents_March23.csv\")"
   ]
  },
  {
   "cell_type": "markdown",
   "id": "8082e9c9",
   "metadata": {},
   "source": [
    "# DataCleaning"
   ]
  },
  {
   "cell_type": "code",
   "execution_count": 34,
   "id": "0175e237",
   "metadata": {},
   "outputs": [
    {
     "name": "stdout",
     "output_type": "stream",
     "text": [
      "<class 'pandas.core.frame.DataFrame'>\n",
      "RangeIndex: 7728394 entries, 0 to 7728393\n",
      "Data columns (total 46 columns):\n",
      " #   Column                 Dtype  \n",
      "---  ------                 -----  \n",
      " 0   ID                     object \n",
      " 1   Source                 object \n",
      " 2   Severity               int64  \n",
      " 3   Start_Time             object \n",
      " 4   End_Time               object \n",
      " 5   Start_Lat              float64\n",
      " 6   Start_Lng              float64\n",
      " 7   End_Lat                float64\n",
      " 8   End_Lng                float64\n",
      " 9   Distance(mi)           float64\n",
      " 10  Description            object \n",
      " 11  Street                 object \n",
      " 12  City                   object \n",
      " 13  County                 object \n",
      " 14  State                  object \n",
      " 15  Zipcode                object \n",
      " 16  Country                object \n",
      " 17  Timezone               object \n",
      " 18  Airport_Code           object \n",
      " 19  Weather_Timestamp      object \n",
      " 20  Temperature(F)         float64\n",
      " 21  Wind_Chill(F)          float64\n",
      " 22  Humidity(%)            float64\n",
      " 23  Pressure(in)           float64\n",
      " 24  Visibility(mi)         float64\n",
      " 25  Wind_Direction         object \n",
      " 26  Wind_Speed(mph)        float64\n",
      " 27  Precipitation(in)      float64\n",
      " 28  Weather_Condition      object \n",
      " 29  Amenity                bool   \n",
      " 30  Bump                   bool   \n",
      " 31  Crossing               bool   \n",
      " 32  Give_Way               bool   \n",
      " 33  Junction               bool   \n",
      " 34  No_Exit                bool   \n",
      " 35  Railway                bool   \n",
      " 36  Roundabout             bool   \n",
      " 37  Station                bool   \n",
      " 38  Stop                   bool   \n",
      " 39  Traffic_Calming        bool   \n",
      " 40  Traffic_Signal         bool   \n",
      " 41  Turning_Loop           bool   \n",
      " 42  Sunrise_Sunset         object \n",
      " 43  Civil_Twilight         object \n",
      " 44  Nautical_Twilight      object \n",
      " 45  Astronomical_Twilight  object \n",
      "dtypes: bool(13), float64(12), int64(1), object(20)\n",
      "memory usage: 2.0+ GB\n"
     ]
    }
   ],
   "source": [
    "df.info()"
   ]
  },
  {
   "cell_type": "markdown",
   "id": "018ecfb3",
   "metadata": {},
   "source": [
    "## DroppingColumn Which I dont Need it"
   ]
  },
  {
   "cell_type": "code",
   "execution_count": 35,
   "id": "fc912c76",
   "metadata": {},
   "outputs": [
    {
     "name": "stdout",
     "output_type": "stream",
     "text": [
      "<class 'pandas.core.frame.DataFrame'>\n",
      "RangeIndex: 7728394 entries, 0 to 7728393\n",
      "Data columns (total 40 columns):\n",
      " #   Column                 Dtype  \n",
      "---  ------                 -----  \n",
      " 0   Source                 object \n",
      " 1   Severity               int64  \n",
      " 2   Start_Time             object \n",
      " 3   End_Time               object \n",
      " 4   Start_Lat              float64\n",
      " 5   Start_Lng              float64\n",
      " 6   End_Lat                float64\n",
      " 7   End_Lng                float64\n",
      " 8   Distance(mi)           float64\n",
      " 9   Description            object \n",
      " 10  Street                 object \n",
      " 11  City                   object \n",
      " 12  County                 object \n",
      " 13  State                  object \n",
      " 14  Zipcode                object \n",
      " 15  Timezone               object \n",
      " 16  Airport_Code           object \n",
      " 17  Wind_Chill(F)          float64\n",
      " 18  Humidity(%)            float64\n",
      " 19  Pressure(in)           float64\n",
      " 20  Visibility(mi)         float64\n",
      " 21  Wind_Direction         object \n",
      " 22  Wind_Speed(mph)        float64\n",
      " 23  Precipitation(in)      float64\n",
      " 24  Weather_Condition      object \n",
      " 25  Bump                   bool   \n",
      " 26  Crossing               bool   \n",
      " 27  Give_Way               bool   \n",
      " 28  No_Exit                bool   \n",
      " 29  Railway                bool   \n",
      " 30  Roundabout             bool   \n",
      " 31  Station                bool   \n",
      " 32  Stop                   bool   \n",
      " 33  Traffic_Calming        bool   \n",
      " 34  Traffic_Signal         bool   \n",
      " 35  Turning_Loop           bool   \n",
      " 36  Sunrise_Sunset         object \n",
      " 37  Civil_Twilight         object \n",
      " 38  Nautical_Twilight      object \n",
      " 39  Astronomical_Twilight  object \n",
      "dtypes: bool(11), float64(11), int64(1), object(17)\n",
      "memory usage: 1.7+ GB\n"
     ]
    }
   ],
   "source": [
    "df = df.drop(columns=[\"ID\",\"Country\"])\n",
    "df = df.drop(columns=[\"Weather_Timestamp\",\"Temperature(F)\"])\n",
    "df = df.drop(columns=[\"Amenity\",\"Junction\"])\n",
    "\n",
    "\n",
    "df.info()"
   ]
  },
  {
   "cell_type": "markdown",
   "id": "55559927",
   "metadata": {},
   "source": [
    "# Changing The Type"
   ]
  },
  {
   "cell_type": "code",
   "execution_count": 36,
   "id": "93973f51",
   "metadata": {},
   "outputs": [
    {
     "name": "stdout",
     "output_type": "stream",
     "text": [
      "<class 'pandas.core.frame.DataFrame'>\n",
      "RangeIndex: 7728394 entries, 0 to 7728393\n",
      "Data columns (total 40 columns):\n",
      " #   Column                 Dtype  \n",
      "---  ------                 -----  \n",
      " 0   Source                 object \n",
      " 1   Severity               uint8  \n",
      " 2   Start_Time             object \n",
      " 3   End_Time               object \n",
      " 4   Start_Lat              float64\n",
      " 5   Start_Lng              float64\n",
      " 6   End_Lat                float64\n",
      " 7   End_Lng                float64\n",
      " 8   Distance(mi)           float64\n",
      " 9   Description            object \n",
      " 10  Street                 object \n",
      " 11  City                   object \n",
      " 12  County                 object \n",
      " 13  State                  object \n",
      " 14  Zipcode                object \n",
      " 15  Timezone               object \n",
      " 16  Airport_Code           object \n",
      " 17  Wind_Chill(F)          float64\n",
      " 18  Humidity(%)            float64\n",
      " 19  Pressure(in)           float64\n",
      " 20  Visibility(mi)         float64\n",
      " 21  Wind_Direction         object \n",
      " 22  Wind_Speed(mph)        float64\n",
      " 23  Precipitation(in)      float64\n",
      " 24  Weather_Condition      object \n",
      " 25  Bump                   uint8  \n",
      " 26  Crossing               uint8  \n",
      " 27  Give_Way               uint8  \n",
      " 28  No_Exit                bool   \n",
      " 29  Railway                bool   \n",
      " 30  Roundabout             bool   \n",
      " 31  Station                bool   \n",
      " 32  Stop                   bool   \n",
      " 33  Traffic_Calming        bool   \n",
      " 34  Traffic_Signal         bool   \n",
      " 35  Turning_Loop           bool   \n",
      " 36  Sunrise_Sunset         object \n",
      " 37  Civil_Twilight         object \n",
      " 38  Nautical_Twilight      object \n",
      " 39  Astronomical_Twilight  object \n",
      "dtypes: bool(8), float64(11), object(17), uint8(4)\n",
      "memory usage: 1.7+ GB\n"
     ]
    }
   ],
   "source": [
    "for col in [\"Severity\", \"Bump\", \"Crossing\", \"Give_Way\"]:\n",
    "    df[col] = df[col].astype(np.uint8)\n",
    "\n",
    "df.info()"
   ]
  },
  {
   "cell_type": "code",
   "execution_count": 45,
   "id": "390fe365",
   "metadata": {},
   "outputs": [
    {
     "data": {
      "application/vnd.microsoft.datawrangler.viewer.v0+json": {
       "columns": [
        {
         "name": "index",
         "rawType": "int64",
         "type": "integer"
        },
        {
         "name": "Sunrise_Sunset",
         "rawType": "int64",
         "type": "integer"
        },
        {
         "name": "Civil_Twilight",
         "rawType": "int64",
         "type": "integer"
        },
        {
         "name": "Nautical_Twilight",
         "rawType": "object",
         "type": "string"
        },
        {
         "name": "Astronomical_Twilight",
         "rawType": "object",
         "type": "string"
        }
       ],
       "ref": "14483d73-b982-40a5-889e-cb1ce2679335",
       "rows": [
        [
         "1",
         "0",
         "0",
         "Night",
         "Day"
        ]
       ],
       "shape": {
        "columns": 4,
        "rows": 1
       }
      },
      "text/html": [
       "<div>\n",
       "<style scoped>\n",
       "    .dataframe tbody tr th:only-of-type {\n",
       "        vertical-align: middle;\n",
       "    }\n",
       "\n",
       "    .dataframe tbody tr th {\n",
       "        vertical-align: top;\n",
       "    }\n",
       "\n",
       "    .dataframe thead th {\n",
       "        text-align: right;\n",
       "    }\n",
       "</style>\n",
       "<table border=\"1\" class=\"dataframe\">\n",
       "  <thead>\n",
       "    <tr style=\"text-align: right;\">\n",
       "      <th></th>\n",
       "      <th>Sunrise_Sunset</th>\n",
       "      <th>Civil_Twilight</th>\n",
       "      <th>Nautical_Twilight</th>\n",
       "      <th>Astronomical_Twilight</th>\n",
       "    </tr>\n",
       "  </thead>\n",
       "  <tbody>\n",
       "    <tr>\n",
       "      <th>1</th>\n",
       "      <td>0</td>\n",
       "      <td>0</td>\n",
       "      <td>Night</td>\n",
       "      <td>Day</td>\n",
       "    </tr>\n",
       "  </tbody>\n",
       "</table>\n",
       "</div>"
      ],
      "text/plain": [
       "   Sunrise_Sunset  Civil_Twilight Nautical_Twilight Astronomical_Twilight\n",
       "1               0               0             Night                   Day"
      ]
     },
     "execution_count": 45,
     "metadata": {},
     "output_type": "execute_result"
    }
   ],
   "source": [
    "sample = df.iloc[1:2, 36:]\n",
    "sample"
   ]
  },
  {
   "cell_type": "code",
   "execution_count": 38,
   "id": "8a0f77d1",
   "metadata": {},
   "outputs": [
    {
     "name": "stdout",
     "output_type": "stream",
     "text": [
      "<class 'pandas.core.frame.DataFrame'>\n",
      "Index: 7705148 entries, 0 to 7728393\n",
      "Data columns (total 40 columns):\n",
      " #   Column                 Dtype  \n",
      "---  ------                 -----  \n",
      " 0   Source                 object \n",
      " 1   Severity               uint8  \n",
      " 2   Start_Time             object \n",
      " 3   End_Time               object \n",
      " 4   Start_Lat              float64\n",
      " 5   Start_Lng              float64\n",
      " 6   End_Lat                float64\n",
      " 7   End_Lng                float64\n",
      " 8   Distance(mi)           float64\n",
      " 9   Description            object \n",
      " 10  Street                 object \n",
      " 11  City                   object \n",
      " 12  County                 object \n",
      " 13  State                  object \n",
      " 14  Zipcode                object \n",
      " 15  Timezone               object \n",
      " 16  Airport_Code           object \n",
      " 17  Wind_Chill(F)          float64\n",
      " 18  Humidity(%)            float64\n",
      " 19  Pressure(in)           float64\n",
      " 20  Visibility(mi)         float64\n",
      " 21  Wind_Direction         object \n",
      " 22  Wind_Speed(mph)        float64\n",
      " 23  Precipitation(in)      float64\n",
      " 24  Weather_Condition      object \n",
      " 25  Bump                   uint8  \n",
      " 26  Crossing               uint8  \n",
      " 27  Give_Way               uint8  \n",
      " 28  No_Exit                bool   \n",
      " 29  Railway                bool   \n",
      " 30  Roundabout             bool   \n",
      " 31  Station                bool   \n",
      " 32  Stop                   bool   \n",
      " 33  Traffic_Calming        bool   \n",
      " 34  Traffic_Signal         bool   \n",
      " 35  Turning_Loop           bool   \n",
      " 36  Sunrise_Sunset         int64  \n",
      " 37  Civil_Twilight         object \n",
      " 38  Nautical_Twilight      object \n",
      " 39  Astronomical_Twilight  object \n",
      "dtypes: bool(8), float64(11), int64(1), object(16), uint8(4)\n",
      "memory usage: 1.8+ GB\n"
     ]
    }
   ],
   "source": [
    "#CountNa = df[\"Sunrise_Sunset\"].isna().sum() ## 23246\n",
    "#countNotNa = df[\"Sunrise_Sunset\"].notna().sum() ## 7705148\n",
    "#### We Can ignore the nan rows\n",
    "\n",
    "df = df.dropna(subset=['Sunrise_Sunset'])\n",
    "df['Sunrise_Sunset'] = df['Sunrise_Sunset'].map({'Night': 0, 'Day': 1})\n",
    "df.info()"
   ]
  },
  {
   "cell_type": "code",
   "execution_count": 44,
   "id": "2fc27f39",
   "metadata": {},
   "outputs": [
    {
     "name": "stdout",
     "output_type": "stream",
     "text": [
      "<class 'pandas.core.frame.DataFrame'>\n",
      "Index: 7705148 entries, 0 to 7728393\n",
      "Data columns (total 40 columns):\n",
      " #   Column                 Dtype  \n",
      "---  ------                 -----  \n",
      " 0   Source                 object \n",
      " 1   Severity               uint8  \n",
      " 2   Start_Time             object \n",
      " 3   End_Time               object \n",
      " 4   Start_Lat              float64\n",
      " 5   Start_Lng              float64\n",
      " 6   End_Lat                float64\n",
      " 7   End_Lng                float64\n",
      " 8   Distance(mi)           float64\n",
      " 9   Description            object \n",
      " 10  Street                 object \n",
      " 11  City                   object \n",
      " 12  County                 object \n",
      " 13  State                  object \n",
      " 14  Zipcode                object \n",
      " 15  Timezone               object \n",
      " 16  Airport_Code           object \n",
      " 17  Wind_Chill(F)          float64\n",
      " 18  Humidity(%)            float64\n",
      " 19  Pressure(in)           float64\n",
      " 20  Visibility(mi)         float64\n",
      " 21  Wind_Direction         object \n",
      " 22  Wind_Speed(mph)        float64\n",
      " 23  Precipitation(in)      float64\n",
      " 24  Weather_Condition      object \n",
      " 25  Bump                   uint8  \n",
      " 26  Crossing               uint8  \n",
      " 27  Give_Way               uint8  \n",
      " 28  No_Exit                bool   \n",
      " 29  Railway                bool   \n",
      " 30  Roundabout             bool   \n",
      " 31  Station                bool   \n",
      " 32  Stop                   bool   \n",
      " 33  Traffic_Calming        bool   \n",
      " 34  Traffic_Signal         bool   \n",
      " 35  Turning_Loop           bool   \n",
      " 36  Sunrise_Sunset         int64  \n",
      " 37  Civil_Twilight         int64  \n",
      " 38  Nautical_Twilight      object \n",
      " 39  Astronomical_Twilight  object \n",
      "dtypes: bool(8), float64(11), int64(2), object(15), uint8(4)\n",
      "memory usage: 1.8+ GB\n"
     ]
    }
   ],
   "source": [
    "#CountNa = df[\"Civil_Twilight\"].isna().sum() ## 0\n",
    "#countNotNa = df[\"Civil_Twilight\"].notna().sum() ## 7705148\n",
    "#print(CountNa,countNotNa)\n",
    "#### We Can ignore the nan rows\n",
    "\n",
    "df = df.dropna(subset=['Civil_Twilight'])\n",
    "df['Civil_Twilight'] = df['Civil_Twilight'].map({'Night': 0, 'Day': 1})\n",
    "df.info()"
   ]
  },
  {
   "cell_type": "code",
   "execution_count": 47,
   "id": "7565ca90",
   "metadata": {},
   "outputs": [
    {
     "name": "stdout",
     "output_type": "stream",
     "text": [
      "0 7705148\n",
      "<class 'pandas.core.frame.DataFrame'>\n",
      "Index: 7705148 entries, 0 to 7728393\n",
      "Data columns (total 40 columns):\n",
      " #   Column                 Dtype  \n",
      "---  ------                 -----  \n",
      " 0   Source                 object \n",
      " 1   Severity               uint8  \n",
      " 2   Start_Time             object \n",
      " 3   End_Time               object \n",
      " 4   Start_Lat              float64\n",
      " 5   Start_Lng              float64\n",
      " 6   End_Lat                float64\n",
      " 7   End_Lng                float64\n",
      " 8   Distance(mi)           float64\n",
      " 9   Description            object \n",
      " 10  Street                 object \n",
      " 11  City                   object \n",
      " 12  County                 object \n",
      " 13  State                  object \n",
      " 14  Zipcode                object \n",
      " 15  Timezone               object \n",
      " 16  Airport_Code           object \n",
      " 17  Wind_Chill(F)          float64\n",
      " 18  Humidity(%)            float64\n",
      " 19  Pressure(in)           float64\n",
      " 20  Visibility(mi)         float64\n",
      " 21  Wind_Direction         object \n",
      " 22  Wind_Speed(mph)        float64\n",
      " 23  Precipitation(in)      float64\n",
      " 24  Weather_Condition      object \n",
      " 25  Bump                   uint8  \n",
      " 26  Crossing               uint8  \n",
      " 27  Give_Way               uint8  \n",
      " 28  No_Exit                bool   \n",
      " 29  Railway                bool   \n",
      " 30  Roundabout             bool   \n",
      " 31  Station                bool   \n",
      " 32  Stop                   bool   \n",
      " 33  Traffic_Calming        bool   \n",
      " 34  Traffic_Signal         bool   \n",
      " 35  Turning_Loop           bool   \n",
      " 36  Sunrise_Sunset         int64  \n",
      " 37  Civil_Twilight         int64  \n",
      " 38  Nautical_Twilight      int64  \n",
      " 39  Astronomical_Twilight  object \n",
      "dtypes: bool(8), float64(11), int64(3), object(14), uint8(4)\n",
      "memory usage: 1.8+ GB\n"
     ]
    }
   ],
   "source": [
    "CountNa = df[\"Nautical_Twilight\"].isna().sum() ## 0\n",
    "countNotNa = df[\"Nautical_Twilight\"].notna().sum() ## 7705148\n",
    "print(CountNa,countNotNa)\n",
    "#### We Can ignore the nan rows\n",
    "\n",
    "df = df.dropna(subset=['Nautical_Twilight'])\n",
    "df['Nautical_Twilight'] = df['Nautical_Twilight'].map({'Night': 0, 'Day': 1})\n",
    "df.info()"
   ]
  },
  {
   "cell_type": "code",
   "execution_count": 50,
   "id": "e45f3ebf",
   "metadata": {},
   "outputs": [
    {
     "name": "stdout",
     "output_type": "stream",
     "text": [
      "0 7705148\n",
      "<class 'pandas.core.frame.DataFrame'>\n",
      "Index: 7705148 entries, 0 to 7728393\n",
      "Data columns (total 40 columns):\n",
      " #   Column                 Dtype  \n",
      "---  ------                 -----  \n",
      " 0   Source                 object \n",
      " 1   Severity               uint8  \n",
      " 2   Start_Time             object \n",
      " 3   End_Time               object \n",
      " 4   Start_Lat              float64\n",
      " 5   Start_Lng              float64\n",
      " 6   End_Lat                float64\n",
      " 7   End_Lng                float64\n",
      " 8   Distance(mi)           float64\n",
      " 9   Description            object \n",
      " 10  Street                 object \n",
      " 11  City                   object \n",
      " 12  County                 object \n",
      " 13  State                  object \n",
      " 14  Zipcode                object \n",
      " 15  Timezone               object \n",
      " 16  Airport_Code           object \n",
      " 17  Wind_Chill(F)          float64\n",
      " 18  Humidity(%)            float64\n",
      " 19  Pressure(in)           float64\n",
      " 20  Visibility(mi)         float64\n",
      " 21  Wind_Direction         object \n",
      " 22  Wind_Speed(mph)        float64\n",
      " 23  Precipitation(in)      float64\n",
      " 24  Weather_Condition      object \n",
      " 25  Bump                   uint8  \n",
      " 26  Crossing               uint8  \n",
      " 27  Give_Way               uint8  \n",
      " 28  No_Exit                bool   \n",
      " 29  Railway                bool   \n",
      " 30  Roundabout             bool   \n",
      " 31  Station                bool   \n",
      " 32  Stop                   bool   \n",
      " 33  Traffic_Calming        bool   \n",
      " 34  Traffic_Signal         bool   \n",
      " 35  Turning_Loop           bool   \n",
      " 36  Sunrise_Sunset         int64  \n",
      " 37  Civil_Twilight         int64  \n",
      " 38  Nautical_Twilight      int64  \n",
      " 39  Astronomical_Twilight  int64  \n",
      "dtypes: bool(8), float64(11), int64(4), object(13), uint8(4)\n",
      "memory usage: 1.8+ GB\n"
     ]
    }
   ],
   "source": [
    "CountNa = df[\"Astronomical_Twilight\"].isna().sum() ## 0\n",
    "countNotNa = df[\"Astronomical_Twilight\"].notna().sum() ## 7705148\n",
    "print(CountNa,countNotNa)\n",
    "#### We Can ignore the nan rows\n",
    "\n",
    "#df = df.dropna(subset=[\"Astronmical_Twilight\"])\n",
    "df[\"Astronomical_Twilight\"] = df[\"Astronomical_Twilight\"].map({'Night': 0, 'Day': 1})\n",
    "df.info()"
   ]
  },
  {
   "cell_type": "code",
   "execution_count": 51,
   "id": "5dee613d",
   "metadata": {},
   "outputs": [
    {
     "name": "stdout",
     "output_type": "stream",
     "text": [
      "<class 'pandas.core.frame.DataFrame'>\n",
      "Index: 7705148 entries, 0 to 7728393\n",
      "Data columns (total 40 columns):\n",
      " #   Column                 Dtype  \n",
      "---  ------                 -----  \n",
      " 0   Source                 object \n",
      " 1   Severity               uint8  \n",
      " 2   Start_Time             object \n",
      " 3   End_Time               object \n",
      " 4   Start_Lat              float64\n",
      " 5   Start_Lng              float64\n",
      " 6   End_Lat                float64\n",
      " 7   End_Lng                float64\n",
      " 8   Distance(mi)           float64\n",
      " 9   Description            object \n",
      " 10  Street                 object \n",
      " 11  City                   object \n",
      " 12  County                 object \n",
      " 13  State                  object \n",
      " 14  Zipcode                object \n",
      " 15  Timezone               object \n",
      " 16  Airport_Code           object \n",
      " 17  Wind_Chill(F)          float64\n",
      " 18  Humidity(%)            float64\n",
      " 19  Pressure(in)           float64\n",
      " 20  Visibility(mi)         float64\n",
      " 21  Wind_Direction         object \n",
      " 22  Wind_Speed(mph)        float64\n",
      " 23  Precipitation(in)      float64\n",
      " 24  Weather_Condition      object \n",
      " 25  Bump                   uint8  \n",
      " 26  Crossing               uint8  \n",
      " 27  Give_Way               uint8  \n",
      " 28  No_Exit                bool   \n",
      " 29  Railway                bool   \n",
      " 30  Roundabout             bool   \n",
      " 31  Station                bool   \n",
      " 32  Stop                   bool   \n",
      " 33  Traffic_Calming        bool   \n",
      " 34  Traffic_Signal         bool   \n",
      " 35  Turning_Loop           bool   \n",
      " 36  Sunrise_Sunset         uint8  \n",
      " 37  Civil_Twilight         uint8  \n",
      " 38  Nautical_Twilight      uint8  \n",
      " 39  Astronomical_Twilight  uint8  \n",
      "dtypes: bool(8), float64(11), object(13), uint8(8)\n",
      "memory usage: 1.6+ GB\n"
     ]
    }
   ],
   "source": [
    "for col in [\"Sunrise_Sunset\",\"Civil_Twilight\",\"Nautical_Twilight\",\"Astronomical_Twilight\"]:\n",
    "    df[col] = df[col].astype(np.uint8)\n",
    "\n",
    "df.info()"
   ]
  },
  {
   "cell_type": "markdown",
   "id": "761c0d9d",
   "metadata": {},
   "source": [
    "# Understanding The Dataframe"
   ]
  },
  {
   "cell_type": "markdown",
   "id": "bfd90c02",
   "metadata": {},
   "source": [
    "## Sample"
   ]
  },
  {
   "cell_type": "code",
   "execution_count": null,
   "id": "f85dba56",
   "metadata": {},
   "outputs": [
    {
     "data": {
      "text/plain": [
       "-124.623833"
      ]
     },
     "execution_count": 56,
     "metadata": {},
     "output_type": "execute_result"
    }
   ],
   "source": [
    "sample_Lat = df[\"Start_Lat\"].head()\n",
    "sample_Lat\n",
    "sample_lon = df[\"Start_Lng\"].head()\n",
    "sample_lon\n",
    "\n"
   ]
  },
  {
   "cell_type": "markdown",
   "id": "c6cf14ff",
   "metadata": {},
   "source": [
    "## Min & Max"
   ]
  },
  {
   "cell_type": "code",
   "execution_count": null,
   "id": "608603df",
   "metadata": {},
   "outputs": [
    {
     "data": {
      "text/plain": [
       "-67.113167"
      ]
     },
     "execution_count": 59,
     "metadata": {},
     "output_type": "execute_result"
    }
   ],
   "source": [
    "min_lat = df[\"Start_Lat\"].min() #24.5548\n",
    "min_lat\n",
    "min_lng = df[\"Start_Lng\"].min() #-124.623833\n",
    "min_lng\n",
    "\n",
    "Max_lat = df[\"Start_Lat\"].max() #49\n",
    "Max_lat\n",
    "\n",
    "Max_lng = df[\"Start_Lng\"].max() #-67\n",
    "Max_lng"
   ]
  },
  {
   "cell_type": "markdown",
   "id": "4aed1ac5",
   "metadata": {},
   "source": [
    "## Central Indexes"
   ]
  },
  {
   "cell_type": "markdown",
   "id": "c66edcc7",
   "metadata": {},
   "source": [
    "### Mean"
   ]
  },
  {
   "cell_type": "code",
   "execution_count": 82,
   "id": "9fd47aa5",
   "metadata": {},
   "outputs": [
    {
     "name": "stdout",
     "output_type": "stream",
     "text": [
      "0.737764333710258 0.684549239346642\n"
     ]
    }
   ],
   "source": [
    "mean_lat = df[df[\"City\"] == \"Reynoldsburg\"][\"Start_Lat\"].mean()\n",
    "mean_lng = df[df[\"City\"] == \"Reynoldsburg\"][\"Start_Lng\"].mean()\n",
    "print(mean_lat,mean_lng)"
   ]
  },
  {
   "cell_type": "markdown",
   "id": "b11c02ac",
   "metadata": {},
   "source": [
    "### Std"
   ]
  },
  {
   "cell_type": "code",
   "execution_count": 83,
   "id": "971928c5",
   "metadata": {},
   "outputs": [
    {
     "name": "stdout",
     "output_type": "stream",
     "text": [
      "0.003790858294806144 0.0014412226847290335\n"
     ]
    }
   ],
   "source": [
    "std_Lat = df[df[\"City\"] == \"Reynoldsburg\"][\"Start_Lat\"].std()\n",
    "std_lng = df[df[\"City\"] == \"Reynoldsburg\"][\"Start_Lng\"].std()\n",
    "print(std_Lat,std_lng)"
   ]
  },
  {
   "cell_type": "markdown",
   "id": "6e984f13",
   "metadata": {},
   "source": [
    "## Normalize"
   ]
  },
  {
   "cell_type": "markdown",
   "id": "99b189af",
   "metadata": {},
   "source": [
    "$z = \\frac{x - \\mu}{\\sigma}$"
   ]
  },
  {
   "cell_type": "code",
   "execution_count": 84,
   "id": "34013411",
   "metadata": {},
   "outputs": [],
   "source": [
    "# First Soloution of doing\n",
    "\n",
    "def Normalizer(value : int, mean : float,std : float):\n",
    "    NormalParam = value\n",
    "    NormalParam = NormalParam - mean\n",
    "    NormalParam = NormalParam/std\n",
    "    return NormalParam\n",
    "\n",
    "df[\"Start_Lat\"] = df[df[\"City\"] == \"Reynoldsburg\"][\"Start_Lat\"].apply(lambda X : Normalizer(X,mean_lat,std_Lat))\n",
    "df[\"Start_Lng\"] = df[df[\"City\"] == \"Reynoldsburg\"][\"Start_Lng\"].apply(lambda Y : Normalizer(Y,mean_lng,std_lng))"
   ]
  },
  {
   "cell_type": "code",
   "execution_count": 69,
   "id": "756cb14c",
   "metadata": {},
   "outputs": [
    {
     "data": {
      "text/plain": [
       "2.5223577811305584"
      ]
     },
     "execution_count": 69,
     "metadata": {},
     "output_type": "execute_result"
    }
   ],
   "source": [
    "# Seccond soloution directly on data\n",
    "#df[\"Start_Lat_Normalized\"] = df[\"Start_Lat\"]-df[\"Start_Lat\"].mean()/df[\"Start_Lat\"].std()\n",
    "#df[\"Start_Lng_Normalized\"] = df[\"Start_Lng\"]-df[\"Start_Lng\"].mean()/df[\"Start_Lng\"].std()\n",
    "x = df[\"Start_Lat\"].max()\n",
    "x"
   ]
  },
  {
   "cell_type": "markdown",
   "id": "31bc33be",
   "metadata": {},
   "source": [
    "# Ploting"
   ]
  },
  {
   "cell_type": "code",
   "execution_count": 71,
   "id": "b9d0fbc0",
   "metadata": {},
   "outputs": [
    {
     "data": {
      "image/png": "[encoded data removed]",
      "text/plain": [
       "<Figure size 640x480 with 1 Axes>"
      ]
     },
     "metadata": {},
     "output_type": "display_data"
    }
   ],
   "source": [
    "plt.scatter(range(len(df[\"Start_Lat\"])), df['Start_Lat'], alpha=0.5, s=10)\n",
    "plt.show()"
   ]
  },
  {
   "cell_type": "code",
   "execution_count": 85,
   "id": "f5d8867a",
   "metadata": {},
   "outputs": [
    {
     "data": {
      "text/plain": [
       "476"
      ]
     },
     "execution_count": 85,
     "metadata": {},
     "output_type": "execute_result"
    }
   ],
   "source": [
    "# because That happen i sampled the data\n",
    "\n",
    "s = (df[\"City\"] == \"Reynoldsburg\").sum()\n",
    "s\n",
    "# 476\n"
   ]
  },
  {
   "cell_type": "code",
   "execution_count": 86,
   "id": "d4b6a3b5",
   "metadata": {},
   "outputs": [],
   "source": [
    "start_lat_reynoldsburg = df[df[\"City\"] == \"Reynoldsburg\"][\"Start_Lat\"]\n",
    "start_lng_Reynoldsburg = df[df[\"City\"] == \"Reynoldsburg\"][\"Start_Lng\"]"
   ]
  },
  {
   "cell_type": "code",
   "execution_count": 100,
   "id": "193fb689",
   "metadata": {},
   "outputs": [
    {
     "data": {
      "image/png": "[encoded data removed]",
      "text/plain": [
       "<Figure size 640x480 with 1 Axes>"
      ]
     },
     "metadata": {},
     "output_type": "display_data"
    },
    {
     "data": {
      "image/png": "[encoded data removed]",
      "text/plain": [
       "<Figure size 640x480 with 1 Axes>"
      ]
     },
     "metadata": {},
     "output_type": "display_data"
    }
   ],
   "source": [
    "plt.scatter(range(len(start_lat_reynoldsburg)),start_lat_reynoldsburg)\n",
    "plt.axhline(y=mean_lat, color='red', linestyle='--', label='Mean')\n",
    "plt.axhline(y=mean_lat + 400*std_Lat, color='green', linestyle=':', label='Mean + 2 STD')\n",
    "plt.axhline(y=mean_lat - 400*std_Lat, color='green', linestyle=':', label='Mean - 2 STD')\n",
    "plt.show()\n",
    "\n",
    "plt.scatter(range(len(start_lng_Reynoldsburg)),start_lng_Reynoldsburg)\n",
    "plt.axhline(y=mean_lng, color='red', linestyle='--', label='Mean')\n",
    "plt.axhline(y=mean_lng + 1200*std_lng, color='green', linestyle=':', label='Mean + 2 STD')\n",
    "plt.axhline(y=mean_lng - 1200*std_lng, color='green', linestyle=':', label='Mean - 2 STD')\n",
    "plt.show()\n"
   ]
  }
 ],
 "metadata": {
  "kernelspec": {
   "display_name": "Py310",
   "language": "python",
   "name": "myenv"
  },
  "language_info": {
   "codemirror_mode": {
    "name": "ipython",
    "version": 3
   },
   "file_extension": ".py",
   "mimetype": "text/x-python",
   "name": "python",
   "nbconvert_exporter": "python",
   "pygments_lexer": "ipython3",
   "version": "3.10.14"
  }
 },
 "nbformat": 4,
 "nbformat_minor": 5
}
